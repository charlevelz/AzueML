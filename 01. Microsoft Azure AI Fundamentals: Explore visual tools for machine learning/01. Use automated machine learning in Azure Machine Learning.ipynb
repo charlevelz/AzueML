{
 "cells": [
  {
   "cell_type": "markdown",
   "metadata": {},
   "source": [
    "# Introduction  \n",
    "\n",
    "El aprendizaje automático es la base de la mayoría de las soluciones de inteligencia artificial. La creación de una solución inteligente a menudo comienza con el uso de aprendizaje automático para entrenar modelos predictivos utilizando datos históricos que ha recopilado.\n",
    "\n",
    "Azure Machine Learning es un servicio en la nube que puede usar para entrenar y administrar modelos de aprendizaje automático.\n",
    "\n",
    "En este módulo, aprenderá a:\n",
    "\n",
    "Identificar el proceso de aprendizaje automático.\n",
    "Comprender las capacidades de Azure Machine Learning.\n",
    "Utilice el aprendizaje automático automatizado en Azure Machine Learning Studio para entrenar e implementar un modelo predictivo."
   ]
  },
  {
   "cell_type": "markdown",
   "metadata": {},
   "source": [
    "# ¿Qué Azure Machine Learning Studio?\n",
    "\n",
    "Capacitar e implementar un modelo efectivo de aprendizaje automático implica mucho trabajo, gran parte del cual requiere mucho tiempo y recursos. Azure Machine Learning es un servicio basado en la nube que ayuda a simplificar algunas de las tareas necesarias para preparar datos, entrenar un modelo e implementar un servicio predictivo.\n",
    "\n",
    "Lo que es más importante, Azure Machine Learning ayuda a los científicos de datos a aumentar su eficiencia al automatizar muchas de las tareas que requieren mucho tiempo asociadas con los modelos de entrenamiento; y les permite usar recursos informáticos basados en la nube que se escalan de manera efectiva para manejar grandes volúmenes de datos mientras incurren en costos solo cuando realmente se usan.\n",
    "\n",
    "### ¿Qué son los Workspaces?\n",
    "Para usar Azure Machine Learning, primero debe crear un recurso de área de trabajo en su suscripción de Azure. Luego puede usar este espacio de trabajo para administrar datos, recursos informáticos, código, modelos y otros artefactos relacionados con sus cargas de trabajo de aprendizaje automático.\n",
    "\n",
    "Una vez que haya creado un área de trabajo de Azure Machine Learning, puede desarrollar soluciones con el servicio de aprendizaje automático de Azure, ya sea con las herramientas para desarrolladores o el portal web del estudio de Azure Machine Learning.\n",
    "\n",
    "### Estudio de aprendizaje automático de Azure\n",
    "Azure Machine Learning Studio es un portal web para soluciones de aprendizaje automático en Azure. Incluye una amplia gama de características y capacidades que ayudan a los científicos de datos a preparar datos, entrenar modelos, publicar servicios predictivos y monitorear su uso. Para comenzar a usar el portal web, debe asignar el espacio de trabajo que creó en Azure Portal a Azure Machine Learning Studio.\n",
    "\n",
    "![](./img/studio-home.png)\n",
    "\n",
    "### Cómputo de Azure Machine Learning\n",
    "En esencia, Azure Machine Learning es un servicio para entrenar y administrar modelos de aprendizaje automático, para lo cual necesita computación sobre la cual ejecutar el proceso de entrenamiento.\n",
    "\n",
    "Los destinos informáticos son recursos basados en la nube en los que puede ejecutar procesos de exploración de datos y entrenamiento de modelos.\n",
    "\n",
    "En Azure Machine Learning Studio , puede administrar los objetivos de proceso para sus actividades de ciencia de datos. Hay cuatro tipos de recursos informáticos que puede crear:\n",
    "\n",
    "Instancias informáticas: estaciones de trabajo de desarrollo que los científicos de datos pueden usar para trabajar con datos y modelos.\n",
    "Compute Clusters : clústeres escalables de máquinas virtuales para el procesamiento bajo demanda de código de experimento.\n",
    "Clústeres de inferencia : destinos de implementación para servicios predictivos que usan sus modelos entrenados.\n",
    "Cómputo adjunto : vínculos a recursos informáticos de Azure existentes, como máquinas virtuales o clústeres de Azure Databricks."
   ]
  },
  {
   "cell_type": "markdown",
   "metadata": {},
   "source": [
    "# ¿Qué es el aprendizaje automático automatizado?\n",
    "Azure Machine Learning incluye una capacidad de aprendizaje automático automatizado que prueba automáticamente varias técnicas de preprocesamiento y algoritmos de entrenamiento de modelos en paralelo. Estas capacidades automatizadas utilizan el poder de la computación en la nube para encontrar el modelo de aprendizaje automático supervisado de mejor rendimiento para sus datos.\n",
    "\n",
    "El aprendizaje automático automatizado le permite entrenar modelos sin conocimientos extensos de ciencia de datos o programación. Para las personas con experiencia en ciencia de datos y programación, proporciona una forma de ahorrar tiempo y recursos al automatizar la selección de algoritmos y el ajuste de hiperparámetros.\n",
    "\n",
    "Puede crear un trabajo de aprendizaje automático automatizado en Azure Machine Learning Studio.\n",
    "\n",
    "![](./img/automated-machine-learning-portal.png)\n",
    "\n",
    "En Azure Machine Learning, las operaciones que ejecuta se denominan trabajos . Puede configurar varios ajustes para su trabajo antes de iniciar una ejecución de aprendizaje automático automatizado. La configuración de ejecución proporciona la información necesaria para especificar su script de entrenamiento, destino de proceso y entorno de Azure ML en su configuración de ejecución y ejecutar un trabajo de entrenamiento.\n",
    "\n",
    "![](./img/start-job-machine-learning-studio.png)"
   ]
  },
  {
   "cell_type": "markdown",
   "metadata": {},
   "source": []
  },
  {
   "cell_type": "markdown",
   "metadata": {},
   "source": []
  },
  {
   "cell_type": "markdown",
   "metadata": {},
   "source": []
  }
 ],
 "metadata": {
  "kernelspec": {
   "display_name": "Python 3.8.10 64-bit",
   "language": "python",
   "name": "python3"
  },
  "language_info": {
   "name": "python",
   "version": "3.8.10"
  },
  "orig_nbformat": 4,
  "vscode": {
   "interpreter": {
    "hash": "916dbcbb3f70747c44a77c7bcd40155683ae19c65e1c03b4aa3499c5328201f1"
   }
  }
 },
 "nbformat": 4,
 "nbformat_minor": 2
}
